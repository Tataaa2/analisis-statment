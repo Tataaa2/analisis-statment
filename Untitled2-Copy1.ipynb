{
 "cells": [
  {
   "cell_type": "code",
   "execution_count": 1,
   "id": "9c97cdcc-2c60-42dd-8ee9-51ceef874aa7",
   "metadata": {},
   "outputs": [],
   "source": [
    "import pandas as pd\n",
    "import numpy as np\n",
    "import matplotlib.pyplot as plt\n",
    "from mlxtend.preprocessing import TransactionEncoder\n",
    "from mlxtend.frequent_patterns import apriori, association_rules\n",
    "import pickle"
   ]
  },
  {
   "cell_type": "code",
   "execution_count": 2,
   "id": "70df4baa-2742-4fdb-910b-191e4862d90e",
   "metadata": {},
   "outputs": [
    {
     "name": "stdout",
     "output_type": "stream",
     "text": [
      "Data Awal:\n",
      "   BillNo                             Itemname  Quantity              Date  \\\n",
      "0  536365   WHITE HANGING HEART T-LIGHT HOLDER         6  01.12.2010 08:26   \n",
      "1  536365                  WHITE METAL LANTERN         6  01.12.2010 08:26   \n",
      "2  536365       CREAM CUPID HEARTS COAT HANGER         8  01.12.2010 08:26   \n",
      "3  536365  KNITTED UNION FLAG HOT WATER BOTTLE         6  01.12.2010 08:26   \n",
      "4  536365       RED WOOLLY HOTTIE WHITE HEART.         6  01.12.2010 08:26   \n",
      "\n",
      "   Price  CustomerID         Country  \n",
      "0   2.55     17850.0  United Kingdom  \n",
      "1   3.39     17850.0  United Kingdom  \n",
      "2   2.75     17850.0  United Kingdom  \n",
      "3   3.39     17850.0  United Kingdom  \n",
      "4   3.39     17850.0  United Kingdom  \n"
     ]
    }
   ],
   "source": [
    "# 2. Baca Dataset\n",
    "data = pd.read_csv('Assignment-1_Data.csv', delimiter=';', decimal=',', low_memory=False)\n",
    "print(\"Data Awal:\")\n",
    "print(data.head())"
   ]
  },
  {
   "cell_type": "code",
   "execution_count": 3,
   "id": "2558f9e3-8dc9-4986-a14e-36fdc0a00d62",
   "metadata": {},
   "outputs": [
    {
     "name": "stdout",
     "output_type": "stream",
     "text": [
      "\n",
      "Cek Missing Values:\n",
      "BillNo             0\n",
      "Itemname        1455\n",
      "Quantity           0\n",
      "Date               0\n",
      "Price              0\n",
      "CustomerID    134041\n",
      "Country            0\n",
      "dtype: int64\n"
     ]
    }
   ],
   "source": [
    "# 3. Bersihkan Data\n",
    "print(\"\\nCek Missing Values:\")\n",
    "print(data.isnull().sum())"
   ]
  },
  {
   "cell_type": "code",
   "execution_count": 4,
   "id": "b5fe55b7-76ef-4265-9b46-a265d32b36ec",
   "metadata": {},
   "outputs": [],
   "source": [
    "# Hapus baris dengan nilai kosong di CustomerID dan Itemname\n",
    "data = data.dropna(subset=['CustomerID', 'Itemname'])"
   ]
  },
  {
   "cell_type": "code",
   "execution_count": 5,
   "id": "b511b673-0d42-4918-9fb3-5388327de596",
   "metadata": {},
   "outputs": [
    {
     "name": "stdout",
     "output_type": "stream",
     "text": [
      "\n",
      "Data Setelah Penggabungan:\n",
      "   BillNo                                           Itemname  Quantity  \\\n",
      "0  536365  [WHITE HANGING HEART T-LIGHT HOLDER, WHITE MET...        40   \n",
      "1  536366  [HAND WARMER UNION JACK, HAND WARMER RED POLKA...        12   \n",
      "2  536367  [ASSORTED COLOUR BIRD ORNAMENT, POPPY'S PLAYHO...        83   \n",
      "3  536368  [JAM MAKING SET WITH JARS, RED COAT RACK PARIS...        15   \n",
      "4  536369                         [BATH BUILDING BLOCK WORD]         3   \n",
      "\n",
      "               Date  Price  CustomerID         Country  \n",
      "0  01.12.2010 08:26  27.37     17850.0  United Kingdom  \n",
      "1  01.12.2010 08:28   3.70     17850.0  United Kingdom  \n",
      "2  01.12.2010 08:34  58.24     13047.0  United Kingdom  \n",
      "3  01.12.2010 08:34  19.10     13047.0  United Kingdom  \n",
      "4  01.12.2010 08:35   5.95     13047.0  United Kingdom  \n"
     ]
    }
   ],
   "source": [
    "# 4. Gabungkan Item Berdasarkan BillNo (Transaksi)\n",
    "data = data.groupby(['BillNo']).agg({\n",
    "    'Itemname': lambda x: list(x),\n",
    "    'Quantity': 'sum',\n",
    "    'Date': 'first',\n",
    "    'Price': 'sum',\n",
    "    'CustomerID': 'first',\n",
    "    'Country': 'first'\n",
    "}).reset_index()\n",
    "print(\"\\nData Setelah Penggabungan:\")\n",
    "print(data.head())"
   ]
  },
  {
   "cell_type": "code",
   "execution_count": 6,
   "id": "607a8c95-5ec1-493f-8122-87c204b4b2b6",
   "metadata": {},
   "outputs": [
    {
     "name": "stdout",
     "output_type": "stream",
     "text": [
      "\n",
      "Data Tahun Terbaru (2011):\n",
      "      BillNo                                           Itemname  Quantity  \\\n",
      "1381  539993  [JUMBO BAG PINK POLKADOT, BLUE POLKADOT WRAP, ...       171   \n",
      "1382  540001  [RED HANGING HEART T-LIGHT HOLDER, CERAMIC BOW...       270   \n",
      "1383  540002  [GARDEN METAL SIGN, RED KITCHEN SCALES, VICTOR...       188   \n",
      "1384  540003  [HANGING HEART ZINC T-LIGHT HOLDER, BREAD BIN ...       140   \n",
      "1385  540004                  [ANTIQUE SILVER TEA GLASS ETCHED]        72   \n",
      "\n",
      "                    Date   Price  CustomerID         Country  Year  \n",
      "1381 2011-01-04 10:00:00   38.04     13313.0  United Kingdom  2011  \n",
      "1382 2011-01-04 10:22:00   26.63     18097.0  United Kingdom  2011  \n",
      "1383 2011-01-04 10:23:00   15.82     16656.0  United Kingdom  2011  \n",
      "1384 2011-01-04 10:37:00  131.30     16875.0  United Kingdom  2011  \n",
      "1385 2011-01-04 10:37:00    1.06     13094.0  United Kingdom  2011  \n"
     ]
    }
   ],
   "source": [
    "# 5. Konversi Kolom Date ke Format Datetime\n",
    "data['Date'] = pd.to_datetime(data['Date'], format='%d.%m.%Y %H:%M')\n",
    "data['Year'] = data['Date'].dt.year\n",
    "\n",
    "# Filter Data Tahun Terbaru\n",
    "latest_year = data['Year'].max()\n",
    "data = data[data['Year'] == latest_year]\n",
    "print(f\"\\nData Tahun Terbaru ({latest_year}):\")\n",
    "print(data.head())"
   ]
  },
  {
   "cell_type": "code",
   "execution_count": 7,
   "id": "21772096-01c7-4348-93bb-6334742d57ba",
   "metadata": {},
   "outputs": [
    {
     "name": "stdout",
     "output_type": "stream",
     "text": [
      "\n",
      "Data Setelah One-Hot Encoding:\n",
      "   10 COLOUR SPACEBOY PEN  12 COLOURED PARTY BALLOONS  \\\n",
      "0                   False                       False   \n",
      "1                   False                       False   \n",
      "2                   False                       False   \n",
      "3                   False                       False   \n",
      "4                   False                       False   \n",
      "\n",
      "   12 DAISY PEGS IN WOOD BOX  12 EGG HOUSE PAINTED WOOD  \\\n",
      "0                      False                      False   \n",
      "1                      False                      False   \n",
      "2                      False                      False   \n",
      "3                      False                      False   \n",
      "4                      False                      False   \n",
      "\n",
      "   12 HANGING EGGS HAND PAINTED  12 IVORY ROSE PEG PLACE SETTINGS  \\\n",
      "0                         False                             False   \n",
      "1                         False                             False   \n",
      "2                         False                             False   \n",
      "3                         False                             False   \n",
      "4                         False                             False   \n",
      "\n",
      "   12 MESSAGE CARDS WITH ENVELOPES  12 PENCIL SMALL TUBE WOODLAND  \\\n",
      "0                            False                          False   \n",
      "1                            False                          False   \n",
      "2                            False                          False   \n",
      "3                            False                          False   \n",
      "4                            False                          False   \n",
      "\n",
      "   12 PENCILS SMALL TUBE RED RETROSPOT  12 PENCILS SMALL TUBE SKULL  ...  \\\n",
      "0                                False                        False  ...   \n",
      "1                                False                        False  ...   \n",
      "2                                False                        False  ...   \n",
      "3                                False                        False  ...   \n",
      "4                                False                        False  ...   \n",
      "\n",
      "   ZINC STAR T-LIGHT HOLDER  ZINC SWEETHEART SOAP DISH  \\\n",
      "0                     False                      False   \n",
      "1                     False                      False   \n",
      "2                     False                      False   \n",
      "3                     False                      False   \n",
      "4                     False                      False   \n",
      "\n",
      "   ZINC SWEETHEART WIRE LETTER RACK  ZINC T-LIGHT HOLDER STAR LARGE  \\\n",
      "0                             False                           False   \n",
      "1                             False                           False   \n",
      "2                             False                           False   \n",
      "3                             False                           False   \n",
      "4                             False                           False   \n",
      "\n",
      "   ZINC T-LIGHT HOLDER STARS LARGE  ZINC T-LIGHT HOLDER STARS SMALL  \\\n",
      "0                            False                            False   \n",
      "1                            False                            False   \n",
      "2                            False                            False   \n",
      "3                            False                            False   \n",
      "4                            False                            False   \n",
      "\n",
      "   ZINC TOP  2 DOOR WOODEN SHELF  ZINC WILLIE WINKIE  CANDLE STICK  \\\n",
      "0                          False                             False   \n",
      "1                          False                             False   \n",
      "2                          False                             False   \n",
      "3                          False                             False   \n",
      "4                          False                             False   \n",
      "\n",
      "   ZINC WIRE KITCHEN ORGANISER  ZINC WIRE SWEETHEART LETTER TRAY  \n",
      "0                        False                             False  \n",
      "1                        False                             False  \n",
      "2                        False                             False  \n",
      "3                        False                             False  \n",
      "4                        False                             False  \n",
      "\n",
      "[5 rows x 3752 columns]\n"
     ]
    }
   ],
   "source": [
    "# 6. One-Hot Encoding untuk Item Transaksi\n",
    "te = TransactionEncoder()\n",
    "basket_encoded = te.fit(data['Itemname']).transform(data['Itemname'])\n",
    "basket_encoded = pd.DataFrame(basket_encoded, columns=te.columns_)\n",
    "print(\"\\nData Setelah One-Hot Encoding:\")\n",
    "print(basket_encoded.head())"
   ]
  },
  {
   "cell_type": "code",
   "execution_count": 8,
   "id": "97f41939-76f5-42f3-8fe1-d0b723bbd5b4",
   "metadata": {},
   "outputs": [
    {
     "name": "stdout",
     "output_type": "stream",
     "text": [
      "\n",
      "Frequent Itemsets:\n",
      "       support                                           itemsets\n",
      "0     0.012692                           (10 COLOUR SPACEBOY PEN)\n",
      "1     0.010070                  (12 MESSAGE CARDS WITH ENVELOPES)\n",
      "2     0.014778                    (12 PENCIL SMALL TUBE WOODLAND)\n",
      "3     0.016089              (12 PENCILS SMALL TUBE RED RETROSPOT)\n",
      "4     0.015493                      (12 PENCILS SMALL TUBE SKULL)\n",
      "...        ...                                                ...\n",
      "1041  0.014480  (ROSES REGENCY TEACUP AND SAUCER, REGENCY CAKE...\n",
      "1042  0.010070  (WOODEN TREE CHRISTMAS SCANDINAVIAN, WOODEN ST...\n",
      "1043  0.012990  (ROSES REGENCY TEACUP AND SAUCER, GREEN REGENC...\n",
      "1044  0.011024  (LUNCH BAG CARS BLUE, LUNCH BAG PINK POLKADOT,...\n",
      "1045  0.010130  (LUNCH BAG PINK POLKADOT, LUNCH BAG SUKI DESIG...\n",
      "\n",
      "[1046 rows x 2 columns]\n"
     ]
    }
   ],
   "source": [
    "# 7. Menjalankan Algoritma Apriori\n",
    "min_support = 0.01  # Set nilai support minimum\n",
    "frequent_itemsets = apriori(basket_encoded, min_support=min_support, use_colnames=True)\n",
    "print(\"\\nFrequent Itemsets:\")\n",
    "print(frequent_itemsets)"
   ]
  },
  {
   "cell_type": "code",
   "execution_count": 9,
   "id": "86aa34af-790b-492e-9dac-ae8f155e5fdf",
   "metadata": {},
   "outputs": [
    {
     "name": "stdout",
     "output_type": "stream",
     "text": [
      "\n",
      "Aturan Asosiasi:\n",
      "                                            antecedents  \\\n",
      "0                     (60 CAKE CASES DOLLY GIRL DESIGN)   \n",
      "1                     (PACK OF 72 RETROSPOT CAKE CASES)   \n",
      "2                         (60 TEATIME FAIRY CAKE CASES)   \n",
      "3                      (72 SWEETHEART FAIRY CAKE CASES)   \n",
      "4                         (60 TEATIME FAIRY CAKE CASES)   \n",
      "...                                                 ...   \n",
      "1125  (LUNCH BAG  BLACK SKULL., LUNCH BAG RED RETROS...   \n",
      "1126                          (LUNCH BAG PINK POLKADOT)   \n",
      "1127                            (LUNCH BAG SUKI DESIGN)   \n",
      "1128                          (LUNCH BAG  BLACK SKULL.)   \n",
      "1129                          (LUNCH BAG RED RETROSPOT)   \n",
      "\n",
      "                                            consequents  antecedent support  \\\n",
      "0                     (PACK OF 72 RETROSPOT CAKE CASES)            0.019008   \n",
      "1                     (60 CAKE CASES DOLLY GIRL DESIGN)            0.054940   \n",
      "2                      (72 SWEETHEART FAIRY CAKE CASES)            0.034740   \n",
      "3                         (60 TEATIME FAIRY CAKE CASES)            0.026517   \n",
      "4                      (PACK OF 60 DINOSAUR CAKE CASES)            0.034740   \n",
      "...                                                 ...                 ...   \n",
      "1125   (LUNCH BAG SUKI DESIGN, LUNCH BAG PINK POLKADOT)            0.028960   \n",
      "1126  (LUNCH BAG SUKI DESIGN, LUNCH BAG  BLACK SKULL...            0.052854   \n",
      "1127  (LUNCH BAG  BLACK SKULL., LUNCH BAG RED RETROS...            0.053152   \n",
      "1128  (LUNCH BAG SUKI DESIGN, LUNCH BAG RED RETROSPO...            0.059230   \n",
      "1129  (LUNCH BAG SUKI DESIGN, LUNCH BAG  BLACK SKULL...            0.072280   \n",
      "\n",
      "      consequent support   support  confidence       lift  representativity  \\\n",
      "0               0.054940  0.010487    0.551724  10.042337               1.0   \n",
      "1               0.019008  0.010487    0.190889  10.042337               1.0   \n",
      "2               0.026517  0.011620    0.334477  12.613911               1.0   \n",
      "3               0.034740  0.011620    0.438202  12.613911               1.0   \n",
      "4               0.029436  0.012215    0.351630  11.945438               1.0   \n",
      "...                  ...       ...         ...        ...               ...   \n",
      "1125            0.021213  0.010130    0.349794  16.489458               1.0   \n",
      "1126            0.014897  0.010130    0.191657  12.865569               1.0   \n",
      "1127            0.017161  0.010130    0.190583  11.105428               1.0   \n",
      "1128            0.014897  0.010130    0.171026  11.480644               1.0   \n",
      "1129            0.013109  0.010130    0.140148  10.690774               1.0   \n",
      "\n",
      "      leverage  conviction  zhangs_metric   jaccard  certainty  kulczynski  \n",
      "0     0.009443    2.108211       0.917869  0.165258   0.525664    0.371307  \n",
      "1     0.009443    1.212432       0.952766  0.165258   0.175211    0.371307  \n",
      "2     0.010698    1.462734       0.953859  0.234094   0.316349    0.386340  \n",
      "3     0.010698    1.718164       0.945802  0.234094   0.417983    0.386340  \n",
      "4     0.011193    1.496928       0.949263  0.235092   0.331965    0.383305  \n",
      "...        ...         ...            ...       ...        ...         ...  \n",
      "1125  0.009516    1.505349       0.967370  0.252976   0.335702    0.413661  \n",
      "1126  0.009343    1.218670       0.973739  0.175801   0.179433    0.435829  \n",
      "1127  0.009218    1.214255       0.961035  0.168317   0.176450    0.390430  \n",
      "1128  0.009248    1.188340       0.970372  0.158287   0.158490    0.425513  \n",
      "1129  0.009182    1.147745       0.977085  0.134600   0.128727    0.456438  \n",
      "\n",
      "[1130 rows x 14 columns]\n"
     ]
    }
   ],
   "source": [
    "# 8. Menentukan Aturan Asosiasi\n",
    "rules = association_rules(frequent_itemsets, metric=\"lift\", min_threshold=1.0, num_itemsets=len(frequent_itemsets))\n",
    "print(\"\\nAturan Asosiasi:\")\n",
    "print(rules)"
   ]
  },
  {
   "cell_type": "code",
   "execution_count": 10,
   "id": "6fd8fe9a-c7f4-494a-95b4-4bb3b75a4ff5",
   "metadata": {},
   "outputs": [
    {
     "name": "stdout",
     "output_type": "stream",
     "text": [
      "\n",
      "Rata-rata Confidence (Akurasi) dari Aturan Asosiasi: 39.27%\n"
     ]
    }
   ],
   "source": [
    "# 9. Evaluasi Akurasi (Rata-rata Confidence)\n",
    "average_confidence = rules['confidence'].mean()\n",
    "print(f\"\\nRata-rata Confidence (Akurasi) dari Aturan Asosiasi: {average_confidence:.2%}\")"
   ]
  },
  {
   "cell_type": "code",
   "execution_count": 11,
   "id": "48487f80-619c-46dc-89f6-0bcca3150f2a",
   "metadata": {},
   "outputs": [
    {
     "data": {
      "image/png": "[encoded data removed]",
      "text/plain": [
       "<Figure size 1200x500 with 3 Axes>"
      ]
     },
     "metadata": {},
     "output_type": "display_data"
    }
   ],
   "source": [
    "# 10. Visualisasi Distribusi Support, Confidence, dan Lift\n",
    "plt.figure(figsize=(12, 5))\n",
    "\n",
    "# Support\n",
    "plt.subplot(1, 3, 1)\n",
    "plt.hist(rules['support'], bins=10, edgecolor='black')\n",
    "plt.title('Distribusi Support')\n",
    "plt.xlabel('Support')\n",
    "plt.ylabel('Frekuensi')\n",
    "\n",
    "# Confidence\n",
    "plt.subplot(1, 3, 2)\n",
    "plt.hist(rules['confidence'], bins=10, edgecolor='black')\n",
    "plt.title('Distribusi Confidence')\n",
    "plt.xlabel('Confidence')\n",
    "plt.ylabel('Frekuensi')\n",
    "\n",
    "# Lift\n",
    "plt.subplot(1, 3, 3)\n",
    "plt.hist(rules['lift'], bins=10, edgecolor='black')\n",
    "plt.title('Distribusi Lift')\n",
    "plt.xlabel('Lift')\n",
    "plt.ylabel('Frekuensi')\n",
    "\n",
    "plt.tight_layout()\n",
    "plt.show()"
   ]
  },
  {
   "cell_type": "code",
   "execution_count": 1,
   "id": "30a8749d-b577-4807-8f6a-936b9ce810c5",
   "metadata": {},
   "outputs": [
    {
     "ename": "SyntaxError",
     "evalue": "invalid syntax (3367753129.py, line 1)",
     "output_type": "error",
     "traceback": [
      "\u001b[1;36m  Cell \u001b[1;32mIn[1], line 1\u001b[1;36m\u001b[0m\n\u001b[1;33m    jupyter nbconvert --to script Untitled2-Copy1.ipynb\u001b[0m\n\u001b[1;37m            ^\u001b[0m\n\u001b[1;31mSyntaxError\u001b[0m\u001b[1;31m:\u001b[0m invalid syntax\n"
     ]
    }
   ],
   "source": [
    "jupyter nbconvert --to script Untitled2.ipynb"
   ]
  },
  {
   "cell_type": "code",
   "execution_count": null,
   "id": "20a278e8-bc78-442c-be33-7864611bffb5",
   "metadata": {},
   "outputs": [],
   "source": []
  }
 ],
 "metadata": {
  "kernelspec": {
   "display_name": "Python (dm_env)",
   "language": "python",
   "name": "dm_env"
  },
  "language_info": {
   "codemirror_mode": {
    "name": "ipython",
    "version": 3
   },
   "file_extension": ".py",
   "mimetype": "text/x-python",
   "name": "python",
   "nbconvert_exporter": "python",
   "pygments_lexer": "ipython3",
   "version": "3.12.7"
  }
 },
 "nbformat": 4,
 "nbformat_minor": 5
}
